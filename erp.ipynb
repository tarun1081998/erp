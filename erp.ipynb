{
 "cells": [
  {
   "cell_type": "code",
   "execution_count": 6,
   "metadata": {},
   "outputs": [
    {
     "name": "stdout",
     "output_type": "stream",
     "text": [
      "enter username24886\n",
      "enter password24886\n",
      "   sno. sub code                          name of subject     type present od  \\\n",
      "0     1   6CS10A                 EmbeddedSystemDesignLab.      Lab      12  2   \n",
      "1     2   6CS11A              HumanitiesandSocialSciences      Lab      13  1   \n",
      "2     3    6CS1A                         ComputerNetworks  Lecture      20  1   \n",
      "3     4    6CS2A            DesignandAnalysisofAlgorithms  Lecture      19  1   \n",
      "4     5    6CS3A                      TheoryOfComputation  Lecture      22  0   \n",
      "5     6    6CS4A  ComputerGraphicsandMultimediaTechniques  Lecture      21  1   \n",
      "6     7    6CS5A                     EmbeddedSystemDesign  Lecture      22  3   \n",
      "7     8    6CS6A                   ArtificialIntelligence  Lecture      24  0   \n",
      "8     9    6CS7A                       JavaProgrammingLab      Lab      24  0   \n",
      "9    10    6CS8A       ComputerGraphics&amp;MultimediaLab      Lab      16  0   \n",
      "10   11    6CS9A        DesignandAnalysisofAlgorithmsLab.      Lab      18  0   \n",
      "\n",
      "   absent aggregate  \n",
      "0       8     63.64  \n",
      "1       5     73.68  \n",
      "2      13     61.76  \n",
      "3      12     62.50  \n",
      "4      14     61.11  \n",
      "5      11     66.67  \n",
      "6      13     65.79  \n",
      "7      10     70.59  \n",
      "8       9     72.73  \n",
      "9      10     61.54  \n",
      "10     18     50.00  \n"
     ]
    }
   ],
   "source": [
    "import requests,re\n",
    "import pandas as pd\n",
    "from bs4 import BeautifulSoup\n",
    "name=input('enter username')\n",
    "passw=input('enter password')\n",
    "login_data={\n",
    "    'username': name,\n",
    "    'password' : passw}\n",
    "with requests.Session() as s:\n",
    "    url='https://erp.skit.ac.in/signin/index'\n",
    "    r=s.get(url)\n",
    "    d=s.post(url,login_data)\n",
    "    \n",
    "    r1=s.get('https://erp.skit.ac.in/reports/student_aggregate')\n",
    "    soup=BeautifulSoup(r1.text,'html.parser')\n",
    "    l=soup.findAll('td')\n",
    "    f=''\n",
    "    for i in l:\n",
    "        f+=str(i)\n",
    "    m=re.sub(r'\\<.*?\\>','',f)\n",
    "    m=re.sub(r' ','',m)\n",
    "    m=re.sub(r'\\t','',m)\n",
    "    m=m[1:-1]\n",
    "    xx=m\n",
    "    m=m.split('\\n\\n')\n",
    "   \n",
    "    aa=[]\n",
    "    for i in m:\n",
    "        x=i.split('\\n')\n",
    "        \n",
    "        aa.append(x)\n",
    "    df=pd.DataFrame(aa,columns=['sno.','sub code','name of subject','type','present','od','absent','aggregate'])\n",
    "    print(df)"
   ]
  },
  {
   "cell_type": "code",
   "execution_count": null,
   "metadata": {},
   "outputs": [],
   "source": []
  },
  {
   "cell_type": "code",
   "execution_count": null,
   "metadata": {},
   "outputs": [],
   "source": []
  }
 ],
 "metadata": {
  "kernelspec": {
   "display_name": "Python 3",
   "language": "python",
   "name": "python3"
  },
  "language_info": {
   "codemirror_mode": {
    "name": "ipython",
    "version": 3
   },
   "file_extension": ".py",
   "mimetype": "text/x-python",
   "name": "python",
   "nbconvert_exporter": "python",
   "pygments_lexer": "ipython3",
   "version": "3.7.1"
  }
 },
 "nbformat": 4,
 "nbformat_minor": 2
}
